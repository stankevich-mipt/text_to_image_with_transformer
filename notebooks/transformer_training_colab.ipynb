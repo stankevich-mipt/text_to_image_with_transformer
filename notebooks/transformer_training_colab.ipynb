{
  "nbformat": 4,
  "nbformat_minor": 0,
  "metadata": {
    "accelerator": "GPU",
    "colab": {
      "name": "flowers_transformer.ipynb",
      "provenance": [],
      "collapsed_sections": []
    },
    "kernelspec": {
      "display_name": "Python 3",
      "name": "python3"
    },
    "language_info": {
      "name": "python"
    }
  },
  "cells": [
    {
      "cell_type": "code",
      "metadata": {
        "id": "tEG9Ji4lCwVR"
      },
      "source": [
        "% load_ext autoreload\n",
        "% autoreload 2"
      ],
      "execution_count": 1,
      "outputs": []
    },
    {
      "cell_type": "code",
      "metadata": {
        "id": "ls2A30RlA56D"
      },
      "source": [
        "#! git clone https://github.com/stankevich-mipt/text_to_image_with_transformer.git"
      ],
      "execution_count": 2,
      "outputs": []
    },
    {
      "cell_type": "code",
      "metadata": {
        "colab": {
          "base_uri": "https://localhost:8080/"
        },
        "id": "We95kQscIQcw",
        "outputId": "9b2e1919-e32c-422a-b440-7fce4b0d1231"
      },
      "source": [
        "! nvidia-smi"
      ],
      "execution_count": 3,
      "outputs": [
        {
          "output_type": "stream",
          "text": [
            "Sun Jun 13 23:03:01 2021       \n",
            "+-----------------------------------------------------------------------------+\n",
            "| NVIDIA-SMI 465.27       Driver Version: 460.32.03    CUDA Version: 11.2     |\n",
            "|-------------------------------+----------------------+----------------------+\n",
            "| GPU  Name        Persistence-M| Bus-Id        Disp.A | Volatile Uncorr. ECC |\n",
            "| Fan  Temp  Perf  Pwr:Usage/Cap|         Memory-Usage | GPU-Util  Compute M. |\n",
            "|                               |                      |               MIG M. |\n",
            "|===============================+======================+======================|\n",
            "|   0  Tesla T4            Off  | 00000000:00:04.0 Off |                    0 |\n",
            "| N/A   65C    P8    10W /  70W |      0MiB / 15109MiB |      0%      Default |\n",
            "|                               |                      |                  N/A |\n",
            "+-------------------------------+----------------------+----------------------+\n",
            "                                                                               \n",
            "+-----------------------------------------------------------------------------+\n",
            "| Processes:                                                                  |\n",
            "|  GPU   GI   CI        PID   Type   Process name                  GPU Memory |\n",
            "|        ID   ID                                                   Usage      |\n",
            "|=============================================================================|\n",
            "|  No running processes found                                                 |\n",
            "+-----------------------------------------------------------------------------+\n"
          ],
          "name": "stdout"
        }
      ]
    },
    {
      "cell_type": "code",
      "metadata": {
        "id": "eD95B6-OJvu2"
      },
      "source": [
        "#! pip install subword-nmt\n",
        "#! pip install nltk\n",
        "#! pip install torchtext\n",
        "#! pip install einops"
      ],
      "execution_count": 4,
      "outputs": []
    },
    {
      "cell_type": "code",
      "metadata": {
        "id": "XxevBK4gBkQ3"
      },
      "source": [
        "#!pip install pydrive                             \n",
        "#from pydrive.auth import GoogleAuth\n",
        "#from pydrive.drive import GoogleDrive\n",
        "#from google.colab import auth                    \n",
        "#from oauth2client.client import GoogleCredentials\n",
        "\n",
        "#auth.authenticate_user()                         \n",
        "#gauth = GoogleAuth()\n",
        "#gauth.credentials = GoogleCredentials.get_application_default()\n",
        "#drive = GoogleDrive(gauth)\n",
        "\n",
        "#your_module = drive.CreateFile({\"id\": \"1-1zRjcpx_UBFGCWD62r5O9POl5krUYOo\"})   \n",
        "#your_module.GetContentFile(\"flowers_.hdf5\")"
      ],
      "execution_count": 5,
      "outputs": []
    },
    {
      "cell_type": "code",
      "metadata": {
        "id": "6Jv9wxHnirgS"
      },
      "source": [
        "import os\n",
        "import sys\n",
        "sys.path.append(os.path.join(os.getcwd(), 'text_to_image_with_transformer'))"
      ],
      "execution_count": 6,
      "outputs": []
    },
    {
      "cell_type": "code",
      "metadata": {
        "id": "npRMzVvdjG9j"
      },
      "source": [
        "import torch\n",
        "import torch.nn as nn\n",
        "import matplotlib.pyplot as plt\n",
        "import torch.nn.functional as F\n",
        "\n",
        "from transformer.dataset import Text2ImageDataset\n",
        "\n",
        "train_dataset = Text2ImageDataset(\n",
        "    'flowers_.hdf5',\n",
        "    max_text_length=64,\n",
        "    split=0\n",
        ")"
      ],
      "execution_count": 7,
      "outputs": []
    },
    {
      "cell_type": "code",
      "metadata": {
        "id": "MkcpqyWJj7Sg"
      },
      "source": [
        "from transformer.transformer import Transformer\n",
        "from torch.optim import AdamW\n",
        "\n",
        "device = torch.device('cuda:0') if torch.cuda.is_available() else torch.device('cpu')\n",
        "model = Transformer(\n",
        "    train_dataset.image_tokens, train_dataset.text_tokens, \n",
        "    train_dataset.max_text_length, 258, device, num_layers=6\n",
        ")\n",
        "optimizer = AdamW(model.parameters(), lr=1e-4, weight_decay=1e-4)"
      ],
      "execution_count": 8,
      "outputs": []
    },
    {
      "cell_type": "code",
      "metadata": {
        "id": "i4PZCI5XSP94"
      },
      "source": [
        "from transformer.transformer_trainer import Trainer\n",
        "\n",
        "trainer = Trainer(\n",
        "    model, optimizer, device, \n",
        "    train_dataset, \n",
        "    snapshot_path='/content/drive/MyDrive/transformer_flowers/' \n",
        ")\n",
        "trainer.train(from_zero=True)"
      ],
      "execution_count": 11,
      "outputs": []
    }
  ]
}