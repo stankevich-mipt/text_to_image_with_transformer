{
  "nbformat": 4,
  "nbformat_minor": 0,
  "metadata": {
    "accelerator": "GPU",
    "colab": {
      "name": "vqvae.ipynb",
      "provenance": [],
      "collapsed_sections": []
    },
    "kernelspec": {
      "display_name": "Python 3",
      "name": "python3"
    },
    "language_info": {
      "name": "python"
    }
  },
  "cells": [
    {
      "cell_type": "code",
      "metadata": {
        "id": "TRJOOJGBw-yw"
      },
      "source": [
        "% load_ext autoreload\n",
        "% autoreload 2"
      ],
      "execution_count": 1,
      "outputs": []
    },
    {
      "cell_type": "code",
      "metadata": {
        "id": "w65jaJOlv51I"
      },
      "source": [
        "#! git clone https://github.com/stankevich-mipt/text_to_image_with_transformer.git"
      ],
      "execution_count": 2,
      "outputs": []
    },
    {
      "cell_type": "code",
      "metadata": {
        "colab": {
          "base_uri": "https://localhost:8080/"
        },
        "id": "uROCBffaWXT8",
        "outputId": "c2da3421-11ef-494b-803a-731459d165d4"
      },
      "source": [
        "! nvidia-smi"
      ],
      "execution_count": 3,
      "outputs": [
        {
          "output_type": "stream",
          "text": [
            "Sun Jun 13 22:57:38 2021       \n",
            "+-----------------------------------------------------------------------------+\n",
            "| NVIDIA-SMI 465.27       Driver Version: 460.32.03    CUDA Version: 11.2     |\n",
            "|-------------------------------+----------------------+----------------------+\n",
            "| GPU  Name        Persistence-M| Bus-Id        Disp.A | Volatile Uncorr. ECC |\n",
            "| Fan  Temp  Perf  Pwr:Usage/Cap|         Memory-Usage | GPU-Util  Compute M. |\n",
            "|                               |                      |               MIG M. |\n",
            "|===============================+======================+======================|\n",
            "|   0  Tesla T4            Off  | 00000000:00:04.0 Off |                    0 |\n",
            "| N/A   53C    P8    10W /  70W |      0MiB / 15109MiB |      0%      Default |\n",
            "|                               |                      |                  N/A |\n",
            "+-------------------------------+----------------------+----------------------+\n",
            "                                                                               \n",
            "+-----------------------------------------------------------------------------+\n",
            "| Processes:                                                                  |\n",
            "|  GPU   GI   CI        PID   Type   Process name                  GPU Memory |\n",
            "|        ID   ID                                                   Usage      |\n",
            "|=============================================================================|\n",
            "|  No running processes found                                                 |\n",
            "+-----------------------------------------------------------------------------+\n"
          ],
          "name": "stdout"
        }
      ]
    },
    {
      "cell_type": "code",
      "metadata": {
        "id": "NGVzU97ieRmT"
      },
      "source": [
        "#!pip install pydrive                             \n",
        "#from pydrive.auth import GoogleAuth\n",
        "#from pydrive.drive import GoogleDrive\n",
        "#from google.colab import auth                    \n",
        "#from oauth2client.client import GoogleCredentials\n",
        "\n",
        "#auth.authenticate_user()                         \n",
        "#gauth = GoogleAuth()\n",
        "#gauth.credentials = GoogleCredentials.get_application_default()\n",
        "#drive = GoogleDrive(gauth)\n",
        "\n",
        "#your_module = drive.CreateFile({\"id\": \"1-1zRjcpx_UBFGCWD62r5O9POl5krUYOo\"})   \n",
        "#your_module.GetContentFile(\"flowers_.hdf5\")"
      ],
      "execution_count": 4,
      "outputs": []
    },
    {
      "cell_type": "code",
      "metadata": {
        "id": "giQLgIwb6IUh"
      },
      "source": [
        "#! cp /content/drive/MyDrive/flowers_with_captions/flowers.hdf5 ."
      ],
      "execution_count": 5,
      "outputs": []
    },
    {
      "cell_type": "code",
      "metadata": {
        "id": "E_ACWynev91J"
      },
      "source": [
        "import os\n",
        "import sys\n",
        "sys.path.append(os.path.join(os.getcwd(), 'text_to_image_with_transformer'))"
      ],
      "execution_count": 6,
      "outputs": []
    },
    {
      "cell_type": "code",
      "metadata": {
        "id": "5xBDeQvHjxs-"
      },
      "source": [
        "import torch\n",
        "import torch.nn as nn\n",
        "import matplotlib.pyplot as plt\n",
        "import torch.nn.functional as F\n",
        "\n",
        "from vqvae.dataset import VQVAEDataset\n",
        "\n",
        "train_dataset = VQVAEDataset(\n",
        "    'flowers.hdf5',\n",
        "    split=0\n",
        ")"
      ],
      "execution_count": 12,
      "outputs": []
    },
    {
      "cell_type": "code",
      "metadata": {
        "id": "RBDw5LvtkYJ9"
      },
      "source": [
        "from vqvae.vqvae import VQVAE\n",
        "from torch.optim import Adam\n",
        "\n",
        "device    = torch.device('cuda:0') if torch.cuda.is_available() else torch.device('cpu')\n",
        "model     = VQVAE(device, 128, 64, 64) \n",
        "optimizer = Adam(model.parameters(), lr=1e-4, weight_decay=1e-4)"
      ],
      "execution_count": 13,
      "outputs": []
    },
    {
      "cell_type": "code",
      "metadata": {
        "id": "QE_A_F0Bx1-L"
      },
      "source": [
        "from vqvae.vqvae_trainer import Trainer\n",
        "\n",
        "trainer = Trainer(\n",
        "    model, optimizer, device, \n",
        "    train_dataset, \n",
        "    snapshot_path='/content/drive/MyDrive/vqvae/' \n",
        ")\n",
        "trainer.train(from_zero=True)"
      ],
      "execution_count": 16,
      "outputs": []
    }
  ]
}